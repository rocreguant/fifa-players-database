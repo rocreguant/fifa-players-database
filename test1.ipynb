{
 "cells": [
  {
   "cell_type": "code",
   "execution_count": 35,
   "metadata": {
    "collapsed": true
   },
   "outputs": [],
   "source": [
    "#Importing libraries\n",
    "\n",
    "import json\n",
    "import csv\n",
    "import matplotlib\n",
    "import numpy as np\n",
    "from os import listdir"
   ]
  },
  {
   "cell_type": "code",
   "execution_count": 66,
   "metadata": {
    "collapsed": false
   },
   "outputs": [],
   "source": [
    "# The order of La liga at the end of the season\n",
    "#The idea is to use this to predict the result of the matches, ie Barcelona won all of them and levante won none\n",
    "order ={}\n",
    "order[1] = 'barcelona'\n",
    "order[2] = 'real madrid'\n",
    "order[3] = 'ath madrid'\n",
    "order[4] = 'villarreal'\n",
    "order[5] = 'ath bilbao'\n",
    "order[6] = 'celta vigo'\n",
    "order[7] = 'sevilla'\n",
    "order[8] = 'malaga'\n",
    "order[9] = 'sociedad'\n",
    "order[10] = 'real betis'\n",
    "order[11] = 'las palmas'\n",
    "order[12] = 'valencia'\n",
    "order[13] = 'espanyol'\n",
    "order[14] = 'eibar'\n",
    "order[15] = 'deportivo'\n",
    "order[16] = 'granada'\n",
    "order[17] = 'sporting gijon'\n",
    "order[18] = 'rayo vallecano'\n",
    "order[19] = 'getafe'\n",
    "order[20] = 'levante'\n",
    "\n",
    "#getting the position of the team\n",
    "def get_position(team):\n",
    "    min_lev = [30, 99] #position, distance lev\n",
    "    for key,t in order.iteritems():\n",
    "        dist = lev(team,t)\n",
    "        if dist<= min_lev[1]:\n",
    "            min_lev[0] = key\n",
    "            min_lev[1] = dist\n",
    "    return min_lev[0]\n",
    "    \n",
    "\n",
    "#get_position('espanol')\n"
   ]
  },
  {
   "cell_type": "code",
   "execution_count": 37,
   "metadata": {
    "collapsed": false
   },
   "outputs": [],
   "source": [
    "#this is necessary because of the accents an other errors from scrapping around\n",
    "def levenshtein(s1, s2):\n",
    "    #https://en.wikipedia.org/wiki/Levenshtein_distance\n",
    "    if len(s1) < len(s2):\n",
    "        return lev(s2, s1)\n",
    "\n",
    "    # len(s1) >= len(s2)\n",
    "    if len(s2) == 0:\n",
    "        return len(s1)\n",
    "\n",
    "    previous_row = range(len(s2) + 1)\n",
    "    for i, c1 in enumerate(s1):\n",
    "        current_row = [i + 1]\n",
    "        for j, c2 in enumerate(s2):\n",
    "            insertions = previous_row[j + 1] + 1 # j+1 instead of j since previous_row and current_row are one character longer\n",
    "            deletions = current_row[j] + 1       # than s2\n",
    "            substitutions = previous_row[j] + (c1 != c2)\n",
    "            current_row.append(min(insertions, deletions, substitutions))\n",
    "        previous_row = current_row\n",
    "\n",
    "    return previous_row[-1]\n",
    "\n",
    "\n",
    "def lev(s1,s2):\n",
    "    #convert to lower everything to avoid mistakes\n",
    "    return levenshtein(s1.lower(),s2.lower())"
   ]
  },
  {
   "cell_type": "code",
   "execution_count": 38,
   "metadata": {
    "collapsed": false
   },
   "outputs": [],
   "source": [
    "#Reading the bets and other info\n",
    "bets = np.genfromtxt('/home/roc/workspace/fifa-db-players/match-results/1516.csv', delimiter=',', skip_header=1\n",
    "                                ,dtype=\"|S10\")\n",
    "\n",
    "#matches\n",
    "matches = bets[:,2:4]\n",
    "aux = bets[:,6]\n",
    "results = []\n",
    "for r in aux:\n",
    "    if r == 'D':\n",
    "        results.append(0)\n",
    "    elif r == 'A':\n",
    "        results.append(1)\n",
    "    else: #H\n",
    "        results.append(-1)\n"
   ]
  },
  {
   "cell_type": "code",
   "execution_count": 67,
   "metadata": {
    "collapsed": false
   },
   "outputs": [
    {
     "name": "stdout",
     "output_type": "stream",
     "text": [
      "Based on the final Liga order accuracy 48.4210526316 %\n"
     ]
    }
   ],
   "source": [
    "#Result match my encoding\n",
    "#homies wins -1\n",
    "#tie 0\n",
    "#outer wins 1\n",
    "\n",
    "my_results_basic = []\n",
    "for match in matches:\n",
    "    p1 = get_position(match[0])\n",
    "    p2 = get_position(match[1])\n",
    "\n",
    "    #with only win/lose it gets 1% improvement\n",
    "    if p1+1 == p2 or p2+1==p1:\n",
    "        my_results_basic.append(0)\n",
    "    elif p1<p2:\n",
    "        my_results_basic.append(-1)\n",
    "    else:\n",
    "        my_results_basic.append(1)\n",
    "\n",
    "    \n",
    "count = 0.0\n",
    "for i in range(len(results)):\n",
    "    if results[i] == my_results_basic[i]:\n",
    "        count +=1\n",
    "print \"Based on the final Liga order accuracy\", count/len(results)*100.0,'%'"
   ]
  },
  {
   "cell_type": "code",
   "execution_count": 75,
   "metadata": {
    "collapsed": false
   },
   "outputs": [
    {
     "name": "stdout",
     "output_type": "stream",
     "text": [
      "bari.json 5\n",
      "real-madrid.json 6\n",
      "atlas.json 8\n",
      "milan.json 8\n",
      "atlas.json 8\n",
      "celtic.json 6\n",
      "psv.json 7\n",
      "milan.json 7\n",
      "sv-ried.json 8\n",
      "real-betis.json 6\n",
      "lazio.json 8\n",
      "az.json 7\n",
      "psv.json 6\n",
      "az.json 7\n",
      "qpr.json 7\n",
      "az.json 7\n",
      "sporting-kc.json 5\n",
      "rayo-vallecano.json 6\n",
      "az.json 7\n",
      "psv.json 7\n",
      "8\n"
     ]
    }
   ],
   "source": [
    "#TODO\n",
    "#Getting the club players info\n",
    "clubs = {}\n",
    "c_names = listdir('/home/roc/workspace/fifa-db-players/club-data')\n",
    "for key, value in order.iteritems():\n",
    "    min_lev = [30, 99] #position, distance lev\n",
    "    for c in c_names:\n",
    "        dist = lev(value,c)\n",
    "        if dist<= min_lev[1]:\n",
    "            min_lev[0] = c\n",
    "            min_lev[1] = dist\n",
    "    print min_lev[0], min_lev[1]\n",
    "print lev('fc-barcelona.json','barcelona')"
   ]
  },
  {
   "cell_type": "code",
   "execution_count": null,
   "metadata": {
    "collapsed": true
   },
   "outputs": [],
   "source": []
  },
  {
   "cell_type": "code",
   "execution_count": null,
   "metadata": {
    "collapsed": true
   },
   "outputs": [],
   "source": []
  }
 ],
 "metadata": {
  "kernelspec": {
   "display_name": "Python 2",
   "language": "python",
   "name": "python2"
  },
  "language_info": {
   "codemirror_mode": {
    "name": "ipython",
    "version": 2
   },
   "file_extension": ".py",
   "mimetype": "text/x-python",
   "name": "python",
   "nbconvert_exporter": "python",
   "pygments_lexer": "ipython2",
   "version": "2.7.6"
  }
 },
 "nbformat": 4,
 "nbformat_minor": 0
}
