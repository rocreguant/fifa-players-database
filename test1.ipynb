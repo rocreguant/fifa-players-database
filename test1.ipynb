{
 "cells": [
  {
   "cell_type": "code",
   "execution_count": 7,
   "metadata": {
    "collapsed": true
   },
   "outputs": [],
   "source": [
    "#Importing libraries\n",
    "\n",
    "import json\n",
    "import csv\n",
    "import matplotlib\n",
    "import numpy as np\n",
    "from os import listdir\n",
    "from sklearn import linear_model"
   ]
  },
  {
   "cell_type": "code",
   "execution_count": 8,
   "metadata": {
    "collapsed": false
   },
   "outputs": [],
   "source": [
    "# The order of La liga at the end of the season\n",
    "#The idea is to use this to predict the result of the matches, ie Barcelona won all of them and levante won none\n",
    "order ={}\n",
    "order[1] = 'barcelona'\n",
    "order[2] = 'real madrid'\n",
    "order[3] = 'atl madrid'\n",
    "order[4] = 'villarreal'\n",
    "order[5] = 'ath bilbao'\n",
    "order[6] = 'celta vigo'\n",
    "order[7] = 'sevilla'\n",
    "order[8] = 'malaga-cf'\n",
    "order[9] = 'real sociedad'\n",
    "order[10] = 'real betis'\n",
    "order[11] = 'las palmas'\n",
    "order[12] = 'valencia'\n",
    "order[13] = 'espanyol'\n",
    "order[14] = 'sd-eibar'\n",
    "order[15] = 'deportivo'\n",
    "order[16] = 'granada'\n",
    "order[17] = 'sporting gijon'\n",
    "order[18] = 'rayo vallecano'\n",
    "order[19] = 'getafe'\n",
    "order[20] = 'levante'\n",
    "\n",
    "#getting the position of the team\n",
    "def get_position(team):\n",
    "    min_lev = [30, 99] #position, distance lev\n",
    "    for key,t in order.iteritems():\n",
    "        dist = lev(team,t)\n",
    "        if dist<= min_lev[1]:\n",
    "            min_lev[0] = key\n",
    "            min_lev[1] = dist\n",
    "    return min_lev[0]\n",
    "    \n",
    "\n",
    "#get_position('espanol')\n"
   ]
  },
  {
   "cell_type": "code",
   "execution_count": 9,
   "metadata": {
    "collapsed": false
   },
   "outputs": [],
   "source": [
    "#this is necessary because of the accents an other errors from scrapping around\n",
    "def levenshtein(s1, s2):\n",
    "    #https://en.wikipedia.org/wiki/Levenshtein_distance\n",
    "    if len(s1) < len(s2):\n",
    "        return lev(s2, s1)\n",
    "\n",
    "    # len(s1) >= len(s2)\n",
    "    if len(s2) == 0:\n",
    "        return len(s1)\n",
    "\n",
    "    previous_row = range(len(s2) + 1)\n",
    "    for i, c1 in enumerate(s1):\n",
    "        current_row = [i + 1]\n",
    "        for j, c2 in enumerate(s2):\n",
    "            insertions = previous_row[j + 1] + 1 # j+1 instead of j since previous_row and current_row are one character longer\n",
    "            deletions = current_row[j] + 1       # than s2\n",
    "            substitutions = previous_row[j] + (c1 != c2)\n",
    "            current_row.append(min(insertions, deletions, substitutions))\n",
    "        previous_row = current_row\n",
    "\n",
    "    return previous_row[-1]\n",
    "\n",
    "\n",
    "def lev(s1,s2):\n",
    "    #convert to lower everything to avoid mistakes\n",
    "    return levenshtein(s1.lower(),s2.lower())"
   ]
  },
  {
   "cell_type": "code",
   "execution_count": 10,
   "metadata": {
    "collapsed": false
   },
   "outputs": [],
   "source": [
    "#Reading the bets and other info\n",
    "bets = np.genfromtxt('/home/roc/workspace/fifa-db-players/match-results/1516.csv', delimiter=',', skip_header=1\n",
    "                                ,dtype=\"|S10\")\n",
    "\n",
    "#matches\n",
    "matches = bets[:,2:4]\n",
    "aux = bets[:,6]\n",
    "results = []\n",
    "for r in aux:\n",
    "    if r == 'D':\n",
    "        results.append(0)\n",
    "    elif r == 'A':\n",
    "        results.append(1)\n",
    "    else: #H\n",
    "        results.append(-1)\n"
   ]
  },
  {
   "cell_type": "code",
   "execution_count": 11,
   "metadata": {
    "collapsed": false
   },
   "outputs": [
    {
     "name": "stdout",
     "output_type": "stream",
     "text": [
      "Based on the final Liga order accuracy 48.4210526316 %\n"
     ]
    }
   ],
   "source": [
    "#Result match my encoding\n",
    "#homies wins -1\n",
    "#tie 0\n",
    "#outer wins 1\n",
    "\n",
    "my_results_basic = []\n",
    "for match in matches:\n",
    "    p1 = get_position(match[0])\n",
    "    p2 = get_position(match[1])\n",
    "\n",
    "    #with only win/lose it gets 1% improvement\n",
    "    if p1+1 == p2 or p2+1==p1:\n",
    "        my_results_basic.append(0)\n",
    "    elif p1<p2:\n",
    "        my_results_basic.append(-1)\n",
    "    else:\n",
    "        my_results_basic.append(1)\n",
    "\n",
    "\n",
    "def get_accuracy(results, my_results_basic):\n",
    "    count = 0.0\n",
    "    for i in range(len(results)):\n",
    "        if results[i] == my_results_basic[i]:\n",
    "            count +=1\n",
    "    return count\n",
    "print \"Based on the final Liga order accuracy\", get_accuracy(results, my_results_basic)/len(results)*100.0,'%'"
   ]
  },
  {
   "cell_type": "code",
   "execution_count": 12,
   "metadata": {
    "collapsed": false
   },
   "outputs": [
    {
     "name": "stdout",
     "output_type": "stream",
     "text": [
      "bet odds 54.2105263158 %\n",
      "bet odds 55.0 %\n",
      "bet odds 52.8947368421 %\n",
      "bet odds 54.2105263158 %\n",
      "bet odds 54.4736842105 %\n",
      "bet odds 53.6842105263 %\n",
      "bet odds 54.4736842105 %\n",
      "bet odds 25.5263157895 %\n",
      "bet odds 30.2631578947 %\n",
      "bet odds 21.8421052632 %\n",
      "bet odds 40.2631578947 %\n",
      "bet odds 25.2631578947 %\n",
      "bet odds 38.6842105263 %\n"
     ]
    }
   ],
   "source": [
    "#Get the prediction from the different betting webs\n",
    "\n",
    "#returns the list witht the bets results\n",
    "def get_results_from_bets(bets):\n",
    "    results = []\n",
    "    for bet in bets:\n",
    "        if(bet[0] < bet[1] and bet[0] < bet[2]) :\n",
    "            results.append(-1)\n",
    "        elif(bet[1] < bet[0] and bet[1] < bet[2]) :\n",
    "            results.append(0)\n",
    "        elif(bet[2] < bet[0] and bet[2] < bet[1]) :\n",
    "            results.append(1)\n",
    "        else:\n",
    "            results.append(666666)\n",
    "    return results\n",
    "\n",
    "for i in range(13):\n",
    "    print 'bet odds', get_accuracy(results, get_results_from_bets(bets[:,22+i*3:25+i*3]))/len(results)*100.0,'%'\n"
   ]
  },
  {
   "cell_type": "code",
   "execution_count": 18,
   "metadata": {
    "collapsed": false
   },
   "outputs": [
    {
     "name": "stdout",
     "output_type": "stream",
     "text": [
      "rafinha\n",
      "marc-andre-ter-stegen\n",
      "lionel-messi\n",
      "pique\n",
      "luis-suarez\n",
      "javier-mascherano\n",
      "iniesta\n",
      "adriano\n",
      "thomas-vermaelen\n",
      "neymar\n",
      "claudio-bravo\n",
      "munir\n",
      "jeremy-mathieu\n",
      "xavi\n",
      "jordi-masip\n",
      "sergi-roberto\n",
      "douglas\n",
      "dani-alves\n",
      "ivan-rakitic\n",
      "sandro\n",
      "pedro\n",
      "marc-bartra\n",
      "montoya\n",
      "jordi-alba\n",
      "sergio-busquets\n"
     ]
    }
   ],
   "source": [
    "#TODO\n",
    "#Getting the club players info\n",
    "clubs = []\n",
    "c_names = listdir('/home/roc/workspace/fifa-db-players/club-data')\n",
    "for key, value in order.iteritems():\n",
    "    min_lev = [30, 99] #position, distance lev\n",
    "    for c in c_names:\n",
    "        dist = lev(value,c[:-5])\n",
    "        if dist<= min_lev[1]:\n",
    "            min_lev[0] = c\n",
    "            min_lev[1] = dist\n",
    "    clubs.append(min_lev[0])\n",
    "\n",
    "with open('/home/roc/workspace/fifa-db-players/club-data/fc-barcelona.json') as data_file:    \n",
    "    data = json.load(data_file)\n",
    "\n",
    "i = 0\n",
    "for player_id in data:\n",
    "    print data[player_id]['name']\n",
    "    \n"
   ]
  },
  {
   "cell_type": "code",
   "execution_count": 2,
   "metadata": {
    "collapsed": false
   },
   "outputs": [
    {
     "name": "stdout",
     "output_type": "stream",
     "text": [
      "abcdefghi\n"
     ]
    }
   ],
   "source": [
    "s = 'abcdefghijkl'\n",
    "print s[:-3]"
   ]
  },
  {
   "cell_type": "code",
   "execution_count": null,
   "metadata": {
    "collapsed": true
   },
   "outputs": [],
   "source": []
  }
 ],
 "metadata": {
  "kernelspec": {
   "display_name": "Python 2",
   "language": "python",
   "name": "python2"
  },
  "language_info": {
   "codemirror_mode": {
    "name": "ipython",
    "version": 2
   },
   "file_extension": ".py",
   "mimetype": "text/x-python",
   "name": "python",
   "nbconvert_exporter": "python",
   "pygments_lexer": "ipython2",
   "version": "2.7.6"
  }
 },
 "nbformat": 4,
 "nbformat_minor": 0
}
